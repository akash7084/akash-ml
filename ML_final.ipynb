{
  "nbformat": 4,
  "nbformat_minor": 0,
  "metadata": {
    "colab": {
      "name": "ML final.ipynb",
      "provenance": [],
      "collapsed_sections": []
    },
    "kernelspec": {
      "name": "python3",
      "display_name": "Python 3"
    },
    "language_info": {
      "name": "python"
    }
  },
  "cells": [
    {
      "cell_type": "code",
      "execution_count": null,
      "metadata": {
        "id": "X5amEtuHkTo2"
      },
      "outputs": [],
      "source": [
        "import os\n",
        "Root = \"/content/drive/MyDrive/ml proj/speech-emotion-recognition-ravdess-data\"\n",
        "os.chdir(Root)"
      ]
    },
    {
      "cell_type": "code",
      "source": [
        "ls"
      ],
      "metadata": {
        "colab": {
          "base_uri": "https://localhost:8080/"
        },
        "id": "18_EtpBQ25RZ",
        "outputId": "c797528a-dbc2-4eec-a0bc-194c544d7ff0"
      },
      "execution_count": null,
      "outputs": [
        {
          "output_type": "stream",
          "name": "stdout",
          "text": [
            "\u001b[0m\u001b[01;34mActor_01\u001b[0m/  \u001b[01;34mActor_06\u001b[0m/  \u001b[01;34mActor_11\u001b[0m/  \u001b[01;34mActor_16\u001b[0m/  \u001b[01;34mActor_21\u001b[0m/\n",
            "\u001b[01;34mActor_02\u001b[0m/  \u001b[01;34mActor_07\u001b[0m/  \u001b[01;34mActor_12\u001b[0m/  \u001b[01;34mActor_17\u001b[0m/  \u001b[01;34mActor_22\u001b[0m/\n",
            "\u001b[01;34mActor_03\u001b[0m/  \u001b[01;34mActor_08\u001b[0m/  \u001b[01;34mActor_13\u001b[0m/  \u001b[01;34mActor_18\u001b[0m/  \u001b[01;34mActor_23\u001b[0m/\n",
            "\u001b[01;34mActor_04\u001b[0m/  \u001b[01;34mActor_09\u001b[0m/  \u001b[01;34mActor_14\u001b[0m/  \u001b[01;34mActor_19\u001b[0m/  \u001b[01;34mActor_24\u001b[0m/\n",
            "\u001b[01;34mActor_05\u001b[0m/  \u001b[01;34mActor_10\u001b[0m/  \u001b[01;34mActor_15\u001b[0m/  \u001b[01;34mActor_20\u001b[0m/  modelForPrediction1.sav\n"
          ]
        }
      ]
    },
    {
      "cell_type": "code",
      "source": [
        "import librosa\n",
        "import soundfile\n",
        "import os, glob, pickle\n",
        "import numpy as np\n",
        "from sklearn.model_selection import train_test_split\n",
        "from sklearn.neural_network import MLPClassifier\n",
        "from sklearn.metrics import accuracy_score"
      ],
      "metadata": {
        "id": "ljZldKSZ29qB"
      },
      "execution_count": null,
      "outputs": []
    },
    {
      "cell_type": "code",
      "source": [
        "#Extract features (mfcc, chroma, mel) from a sound file\n",
        "def extract_feature(file_name, mfcc, chroma, mel):\n",
        "    with soundfile.SoundFile(file_name) as sound_file:\n",
        "        X = sound_file.read(dtype=\"float32\")\n",
        "        sample_rate=sound_file.samplerate\n",
        "        if chroma:\n",
        "            stft=np.abs(librosa.stft(X))\n",
        "        result=np.array([])\n",
        "        if mfcc:\n",
        "            mfccs=np.mean(librosa.feature.mfcc(y=X, sr=sample_rate, n_mfcc=40).T, axis=0)\n",
        "            result=np.hstack((result, mfccs))\n",
        "        if chroma:\n",
        "            chroma=np.mean(librosa.feature.chroma_stft(S=stft, sr=sample_rate).T,axis=0)\n",
        "            result=np.hstack((result, chroma))\n",
        "        if mel:\n",
        "            mel=np.mean(librosa.feature.melspectrogram(X, sr=sample_rate).T,axis=0)\n",
        "            result=np.hstack((result, mel))\n",
        "    return result"
      ],
      "metadata": {
        "id": "S6rS6N5s3H-l"
      },
      "execution_count": null,
      "outputs": []
    },
    {
      "cell_type": "code",
      "source": [
        "# Emotions in the RAVDESS dataset\n",
        "emotions={\n",
        "  '01':'neutral',\n",
        "  '02':'calm',\n",
        "  '03':'happy',\n",
        "  '04':'sad',\n",
        "  '05':'angry',\n",
        "  '06':'fearful',\n",
        "  '07':'disgust',\n",
        "  '08':'surprised'\n",
        "}\n",
        "\n",
        "#Emotions to observe\n",
        "observed_emotions=['calm', 'happy', 'fearful', 'disgust']"
      ],
      "metadata": {
        "id": "fQ658Z2L3LfC"
      },
      "execution_count": null,
      "outputs": []
    },
    {
      "cell_type": "code",
      "source": [
        "#Load the data and extract features for each sound file\n",
        "def load_data(test_size=0.2):\n",
        "    x,y=[],[]\n",
        "    for file in glob.glob(\"/content/drive/MyDrive/ml proj/speech-emotion-recognition-ravdess-data/Actor_*/*.wav\"):\n",
        "        file_name=os.path.basename(file)\n",
        "        emotion=emotions[file_name.split(\"-\")[2]]\n",
        "        if emotion not in observed_emotions:\n",
        "            continue\n",
        "        feature=extract_feature(file, mfcc=True, chroma=True, mel=True)\n",
        "        x.append(feature)\n",
        "        y.append(emotion)\n",
        "    return train_test_split(np.array(x), y, test_size=test_size, random_state=9)"
      ],
      "metadata": {
        "id": "hcZdvd5i3NwT"
      },
      "execution_count": null,
      "outputs": []
    },
    {
      "cell_type": "code",
      "source": [
        "#Split the dataset\n",
        "x_train,x_test,y_train,y_test=load_data(test_size=0.25)"
      ],
      "metadata": {
        "id": "82FYE9_U3QN3"
      },
      "execution_count": null,
      "outputs": []
    },
    {
      "cell_type": "code",
      "source": [
        "x_train"
      ],
      "metadata": {
        "colab": {
          "base_uri": "https://localhost:8080/"
        },
        "id": "bj2mynUw_5jD",
        "outputId": "7c983d85-60c3-4a32-878c-e1522b3d43e9"
      },
      "execution_count": null,
      "outputs": [
        {
          "output_type": "execute_result",
          "data": {
            "text/plain": [
              "array([[-4.95599945e+02,  2.82138557e+01, -5.80377722e+00, ...,\n",
              "         3.14757839e-04,  2.04955722e-04,  1.31822366e-04],\n",
              "       [-6.42915588e+02,  7.66249466e+01,  2.75691414e+00, ...,\n",
              "         4.64339200e-06,  2.52479435e-06,  1.17451077e-06],\n",
              "       [-5.55030457e+02,  2.36032677e+01, -2.53534470e+01, ...,\n",
              "         7.57200105e-05,  4.78267320e-05,  2.09626596e-05],\n",
              "       ...,\n",
              "       [-5.78326233e+02,  2.42516861e+01, -4.97860098e+00, ...,\n",
              "         1.09455046e-04,  7.40213218e-05,  3.72870491e-05],\n",
              "       [-4.71528381e+02,  3.68739777e+01, -6.11022472e+00, ...,\n",
              "         4.36598057e-04,  2.39399931e-04,  1.13480164e-04],\n",
              "       [-4.80286407e+02,  2.78660526e+01, -1.06364164e+01, ...,\n",
              "         1.85660459e-03,  1.39153481e-03,  8.21309222e-04]])"
            ]
          },
          "metadata": {},
          "execution_count": 10
        }
      ]
    },
    {
      "cell_type": "code",
      "source": [
        "#Get the shape of the training and testing datasets\n",
        "print((x_train.shape[0], x_test.shape[0]))"
      ],
      "metadata": {
        "colab": {
          "base_uri": "https://localhost:8080/"
        },
        "id": "Twna3CIm_6Bj",
        "outputId": "da298f94-e5b1-4a6a-ad3a-611fe3a3f4d1"
      },
      "execution_count": null,
      "outputs": [
        {
          "output_type": "stream",
          "name": "stdout",
          "text": [
            "(576, 192)\n"
          ]
        }
      ]
    },
    {
      "cell_type": "code",
      "source": [
        "#Get the number of features extracted\n",
        "print(f'Features extracted: {x_train.shape[1]}')"
      ],
      "metadata": {
        "colab": {
          "base_uri": "https://localhost:8080/"
        },
        "id": "jX3N0bhL_6Jz",
        "outputId": "6d0b82f9-b773-42e6-bfe5-adf66f984f36"
      },
      "execution_count": null,
      "outputs": [
        {
          "output_type": "stream",
          "name": "stdout",
          "text": [
            "Features extracted: 180\n"
          ]
        }
      ]
    },
    {
      "cell_type": "code",
      "source": [
        "#Initialize the Multi Layer Perceptron Classifier\n",
        "model=MLPClassifier(alpha=0.01, batch_size=256, epsilon=1e-08, hidden_layer_sizes=(300,), learning_rate='adaptive', max_iter=500)"
      ],
      "metadata": {
        "id": "MTH18rVYABTs"
      },
      "execution_count": null,
      "outputs": []
    },
    {
      "cell_type": "code",
      "source": [
        "#Train the model\n",
        "model.fit(x_train,y_train)"
      ],
      "metadata": {
        "colab": {
          "base_uri": "https://localhost:8080/"
        },
        "id": "2AGNnU4_ABkD",
        "outputId": "663373b8-948d-41d4-b667-741926e290d6"
      },
      "execution_count": null,
      "outputs": [
        {
          "output_type": "execute_result",
          "data": {
            "text/plain": [
              "MLPClassifier(alpha=0.01, batch_size=256, hidden_layer_sizes=(300,),\n",
              "              learning_rate='adaptive', max_iter=500)"
            ]
          },
          "metadata": {},
          "execution_count": 14
        }
      ]
    },
    {
      "cell_type": "code",
      "source": [
        "#Predict for the test set\n",
        "y_pred=model.predict(x_test)"
      ],
      "metadata": {
        "id": "n5yk1hZgABwL"
      },
      "execution_count": null,
      "outputs": []
    },
    {
      "cell_type": "code",
      "source": [
        "y_pred"
      ],
      "metadata": {
        "colab": {
          "base_uri": "https://localhost:8080/"
        },
        "id": "qe7N6oqDAKI7",
        "outputId": "965f803b-570c-4136-e18c-8dd8a00c53fa"
      },
      "execution_count": null,
      "outputs": [
        {
          "output_type": "execute_result",
          "data": {
            "text/plain": [
              "array(['disgust', 'happy', 'calm', 'happy', 'happy', 'disgust', 'happy',\n",
              "       'happy', 'fearful', 'happy', 'happy', 'calm', 'calm', 'calm',\n",
              "       'calm', 'fearful', 'happy', 'calm', 'calm', 'fearful', 'calm',\n",
              "       'calm', 'happy', 'fearful', 'happy', 'fearful', 'disgust',\n",
              "       'disgust', 'calm', 'happy', 'calm', 'happy', 'disgust', 'happy',\n",
              "       'calm', 'disgust', 'happy', 'fearful', 'calm', 'fearful', 'happy',\n",
              "       'happy', 'disgust', 'calm', 'fearful', 'fearful', 'disgust',\n",
              "       'happy', 'happy', 'happy', 'fearful', 'happy', 'happy', 'calm',\n",
              "       'calm', 'happy', 'calm', 'fearful', 'fearful', 'calm', 'happy',\n",
              "       'fearful', 'calm', 'fearful', 'calm', 'calm', 'fearful', 'fearful',\n",
              "       'happy', 'happy', 'fearful', 'disgust', 'fearful', 'calm', 'happy',\n",
              "       'happy', 'happy', 'happy', 'calm', 'calm', 'fearful', 'calm',\n",
              "       'happy', 'fearful', 'happy', 'calm', 'fearful', 'calm', 'happy',\n",
              "       'calm', 'fearful', 'calm', 'calm', 'calm', 'calm', 'fearful',\n",
              "       'fearful', 'happy', 'happy', 'fearful', 'fearful', 'fearful',\n",
              "       'calm', 'calm', 'disgust', 'happy', 'fearful', 'calm', 'calm',\n",
              "       'calm', 'calm', 'fearful', 'calm', 'calm', 'fearful', 'disgust',\n",
              "       'calm', 'fearful', 'fearful', 'happy', 'disgust', 'disgust',\n",
              "       'calm', 'disgust', 'happy', 'calm', 'calm', 'happy', 'fearful',\n",
              "       'happy', 'calm', 'calm', 'happy', 'disgust', 'calm', 'happy',\n",
              "       'happy', 'fearful', 'fearful', 'happy', 'happy', 'disgust', 'calm',\n",
              "       'happy', 'happy', 'calm', 'fearful', 'fearful', 'happy', 'calm',\n",
              "       'calm', 'calm', 'happy', 'happy', 'happy', 'disgust', 'happy',\n",
              "       'fearful', 'happy', 'calm', 'calm', 'fearful', 'disgust',\n",
              "       'fearful', 'calm', 'calm', 'fearful', 'disgust', 'calm', 'calm',\n",
              "       'calm', 'happy', 'calm', 'happy', 'fearful', 'happy', 'calm',\n",
              "       'fearful', 'calm', 'happy', 'calm', 'calm', 'happy', 'fearful',\n",
              "       'calm', 'fearful', 'happy', 'calm', 'calm', 'happy', 'calm',\n",
              "       'calm'], dtype='<U7')"
            ]
          },
          "metadata": {},
          "execution_count": 16
        }
      ]
    },
    {
      "cell_type": "code",
      "source": [
        "#Calculate the accuracy of our model\n",
        "accuracy=accuracy_score(y_true=y_test, y_pred=y_pred)\n",
        "\n",
        "#Print the accuracy\n",
        "print(\"Accuracy: {:.2f}%\".format(accuracy*100))"
      ],
      "metadata": {
        "colab": {
          "base_uri": "https://localhost:8080/"
        },
        "id": "PyLKJLXCAKVT",
        "outputId": "813910b9-b850-4a94-9710-a0adaa4a7f91"
      },
      "execution_count": null,
      "outputs": [
        {
          "output_type": "stream",
          "name": "stdout",
          "text": [
            "Accuracy: 67.71%\n"
          ]
        }
      ]
    },
    {
      "cell_type": "code",
      "source": [
        "from sklearn.metrics import accuracy_score, f1_score"
      ],
      "metadata": {
        "id": "44OfJKtyARBM"
      },
      "execution_count": null,
      "outputs": []
    },
    {
      "cell_type": "code",
      "source": [
        "f1_score(y_test, y_pred,average=None)"
      ],
      "metadata": {
        "colab": {
          "base_uri": "https://localhost:8080/"
        },
        "id": "2BO3yxY1ARJD",
        "outputId": "c16dfc80-f0cd-49a3-92c3-3c43923f477d"
      },
      "execution_count": null,
      "outputs": [
        {
          "output_type": "execute_result",
          "data": {
            "text/plain": [
              "array([0.81355932, 0.43243243, 0.72527473, 0.65346535])"
            ]
          },
          "metadata": {},
          "execution_count": 19
        }
      ]
    },
    {
      "cell_type": "code",
      "source": [
        "import pandas as pd\n",
        "df=pd.DataFrame({'Actual': y_test, 'Predicted':y_pred})\n",
        "df.head(20)"
      ],
      "metadata": {
        "colab": {
          "base_uri": "https://localhost:8080/",
          "height": 676
        },
        "id": "00pYRIvLARN8",
        "outputId": "39a9ff67-8ecb-46d8-8005-7dc9acba697c"
      },
      "execution_count": null,
      "outputs": [
        {
          "output_type": "execute_result",
          "data": {
            "text/html": [
              "\n",
              "  <div id=\"df-80459307-b2e6-422b-8974-1af29c159b26\">\n",
              "    <div class=\"colab-df-container\">\n",
              "      <div>\n",
              "<style scoped>\n",
              "    .dataframe tbody tr th:only-of-type {\n",
              "        vertical-align: middle;\n",
              "    }\n",
              "\n",
              "    .dataframe tbody tr th {\n",
              "        vertical-align: top;\n",
              "    }\n",
              "\n",
              "    .dataframe thead th {\n",
              "        text-align: right;\n",
              "    }\n",
              "</style>\n",
              "<table border=\"1\" class=\"dataframe\">\n",
              "  <thead>\n",
              "    <tr style=\"text-align: right;\">\n",
              "      <th></th>\n",
              "      <th>Actual</th>\n",
              "      <th>Predicted</th>\n",
              "    </tr>\n",
              "  </thead>\n",
              "  <tbody>\n",
              "    <tr>\n",
              "      <th>0</th>\n",
              "      <td>disgust</td>\n",
              "      <td>disgust</td>\n",
              "    </tr>\n",
              "    <tr>\n",
              "      <th>1</th>\n",
              "      <td>happy</td>\n",
              "      <td>happy</td>\n",
              "    </tr>\n",
              "    <tr>\n",
              "      <th>2</th>\n",
              "      <td>calm</td>\n",
              "      <td>calm</td>\n",
              "    </tr>\n",
              "    <tr>\n",
              "      <th>3</th>\n",
              "      <td>disgust</td>\n",
              "      <td>happy</td>\n",
              "    </tr>\n",
              "    <tr>\n",
              "      <th>4</th>\n",
              "      <td>happy</td>\n",
              "      <td>happy</td>\n",
              "    </tr>\n",
              "    <tr>\n",
              "      <th>5</th>\n",
              "      <td>disgust</td>\n",
              "      <td>disgust</td>\n",
              "    </tr>\n",
              "    <tr>\n",
              "      <th>6</th>\n",
              "      <td>happy</td>\n",
              "      <td>happy</td>\n",
              "    </tr>\n",
              "    <tr>\n",
              "      <th>7</th>\n",
              "      <td>disgust</td>\n",
              "      <td>happy</td>\n",
              "    </tr>\n",
              "    <tr>\n",
              "      <th>8</th>\n",
              "      <td>fearful</td>\n",
              "      <td>fearful</td>\n",
              "    </tr>\n",
              "    <tr>\n",
              "      <th>9</th>\n",
              "      <td>happy</td>\n",
              "      <td>happy</td>\n",
              "    </tr>\n",
              "    <tr>\n",
              "      <th>10</th>\n",
              "      <td>disgust</td>\n",
              "      <td>happy</td>\n",
              "    </tr>\n",
              "    <tr>\n",
              "      <th>11</th>\n",
              "      <td>calm</td>\n",
              "      <td>calm</td>\n",
              "    </tr>\n",
              "    <tr>\n",
              "      <th>12</th>\n",
              "      <td>calm</td>\n",
              "      <td>calm</td>\n",
              "    </tr>\n",
              "    <tr>\n",
              "      <th>13</th>\n",
              "      <td>disgust</td>\n",
              "      <td>calm</td>\n",
              "    </tr>\n",
              "    <tr>\n",
              "      <th>14</th>\n",
              "      <td>disgust</td>\n",
              "      <td>calm</td>\n",
              "    </tr>\n",
              "    <tr>\n",
              "      <th>15</th>\n",
              "      <td>happy</td>\n",
              "      <td>fearful</td>\n",
              "    </tr>\n",
              "    <tr>\n",
              "      <th>16</th>\n",
              "      <td>happy</td>\n",
              "      <td>happy</td>\n",
              "    </tr>\n",
              "    <tr>\n",
              "      <th>17</th>\n",
              "      <td>fearful</td>\n",
              "      <td>calm</td>\n",
              "    </tr>\n",
              "    <tr>\n",
              "      <th>18</th>\n",
              "      <td>calm</td>\n",
              "      <td>calm</td>\n",
              "    </tr>\n",
              "    <tr>\n",
              "      <th>19</th>\n",
              "      <td>fearful</td>\n",
              "      <td>fearful</td>\n",
              "    </tr>\n",
              "  </tbody>\n",
              "</table>\n",
              "</div>\n",
              "      <button class=\"colab-df-convert\" onclick=\"convertToInteractive('df-80459307-b2e6-422b-8974-1af29c159b26')\"\n",
              "              title=\"Convert this dataframe to an interactive table.\"\n",
              "              style=\"display:none;\">\n",
              "        \n",
              "  <svg xmlns=\"http://www.w3.org/2000/svg\" height=\"24px\"viewBox=\"0 0 24 24\"\n",
              "       width=\"24px\">\n",
              "    <path d=\"M0 0h24v24H0V0z\" fill=\"none\"/>\n",
              "    <path d=\"M18.56 5.44l.94 2.06.94-2.06 2.06-.94-2.06-.94-.94-2.06-.94 2.06-2.06.94zm-11 1L8.5 8.5l.94-2.06 2.06-.94-2.06-.94L8.5 2.5l-.94 2.06-2.06.94zm10 10l.94 2.06.94-2.06 2.06-.94-2.06-.94-.94-2.06-.94 2.06-2.06.94z\"/><path d=\"M17.41 7.96l-1.37-1.37c-.4-.4-.92-.59-1.43-.59-.52 0-1.04.2-1.43.59L10.3 9.45l-7.72 7.72c-.78.78-.78 2.05 0 2.83L4 21.41c.39.39.9.59 1.41.59.51 0 1.02-.2 1.41-.59l7.78-7.78 2.81-2.81c.8-.78.8-2.07 0-2.86zM5.41 20L4 18.59l7.72-7.72 1.47 1.35L5.41 20z\"/>\n",
              "  </svg>\n",
              "      </button>\n",
              "      \n",
              "  <style>\n",
              "    .colab-df-container {\n",
              "      display:flex;\n",
              "      flex-wrap:wrap;\n",
              "      gap: 12px;\n",
              "    }\n",
              "\n",
              "    .colab-df-convert {\n",
              "      background-color: #E8F0FE;\n",
              "      border: none;\n",
              "      border-radius: 50%;\n",
              "      cursor: pointer;\n",
              "      display: none;\n",
              "      fill: #1967D2;\n",
              "      height: 32px;\n",
              "      padding: 0 0 0 0;\n",
              "      width: 32px;\n",
              "    }\n",
              "\n",
              "    .colab-df-convert:hover {\n",
              "      background-color: #E2EBFA;\n",
              "      box-shadow: 0px 1px 2px rgba(60, 64, 67, 0.3), 0px 1px 3px 1px rgba(60, 64, 67, 0.15);\n",
              "      fill: #174EA6;\n",
              "    }\n",
              "\n",
              "    [theme=dark] .colab-df-convert {\n",
              "      background-color: #3B4455;\n",
              "      fill: #D2E3FC;\n",
              "    }\n",
              "\n",
              "    [theme=dark] .colab-df-convert:hover {\n",
              "      background-color: #434B5C;\n",
              "      box-shadow: 0px 1px 3px 1px rgba(0, 0, 0, 0.15);\n",
              "      filter: drop-shadow(0px 1px 2px rgba(0, 0, 0, 0.3));\n",
              "      fill: #FFFFFF;\n",
              "    }\n",
              "  </style>\n",
              "\n",
              "      <script>\n",
              "        const buttonEl =\n",
              "          document.querySelector('#df-80459307-b2e6-422b-8974-1af29c159b26 button.colab-df-convert');\n",
              "        buttonEl.style.display =\n",
              "          google.colab.kernel.accessAllowed ? 'block' : 'none';\n",
              "\n",
              "        async function convertToInteractive(key) {\n",
              "          const element = document.querySelector('#df-80459307-b2e6-422b-8974-1af29c159b26');\n",
              "          const dataTable =\n",
              "            await google.colab.kernel.invokeFunction('convertToInteractive',\n",
              "                                                     [key], {});\n",
              "          if (!dataTable) return;\n",
              "\n",
              "          const docLinkHtml = 'Like what you see? Visit the ' +\n",
              "            '<a target=\"_blank\" href=https://colab.research.google.com/notebooks/data_table.ipynb>data table notebook</a>'\n",
              "            + ' to learn more about interactive tables.';\n",
              "          element.innerHTML = '';\n",
              "          dataTable['output_type'] = 'display_data';\n",
              "          await google.colab.output.renderOutput(dataTable, element);\n",
              "          const docLink = document.createElement('div');\n",
              "          docLink.innerHTML = docLinkHtml;\n",
              "          element.appendChild(docLink);\n",
              "        }\n",
              "      </script>\n",
              "    </div>\n",
              "  </div>\n",
              "  "
            ],
            "text/plain": [
              "     Actual Predicted\n",
              "0   disgust   disgust\n",
              "1     happy     happy\n",
              "2      calm      calm\n",
              "3   disgust     happy\n",
              "4     happy     happy\n",
              "5   disgust   disgust\n",
              "6     happy     happy\n",
              "7   disgust     happy\n",
              "8   fearful   fearful\n",
              "9     happy     happy\n",
              "10  disgust     happy\n",
              "11     calm      calm\n",
              "12     calm      calm\n",
              "13  disgust      calm\n",
              "14  disgust      calm\n",
              "15    happy   fearful\n",
              "16    happy     happy\n",
              "17  fearful      calm\n",
              "18     calm      calm\n",
              "19  fearful   fearful"
            ]
          },
          "metadata": {},
          "execution_count": 20
        }
      ]
    },
    {
      "cell_type": "code",
      "source": [
        "import pickle\n",
        "# Writing different model files to file\n",
        "with open( 'modelForPrediction1.sav', 'wb') as f:\n",
        "    pickle.dump(model,f)"
      ],
      "metadata": {
        "id": "T4oZLZiWARS3"
      },
      "execution_count": null,
      "outputs": []
    },
    {
      "cell_type": "code",
      "source": [
        "filename = 'modelForPrediction1.sav'\n",
        "loaded_model = pickle.load(open(filename, 'rb')) # loading the model file from the storage\n",
        "\n",
        "feature=extract_feature(\"/content/drive/MyDrive/ml proj/speech-emotion-recognition-ravdess-data/Actor_01/03-01-01-01-01-01-01.wav\", mfcc=True, chroma=True, mel=True)\n",
        "\n",
        "feature=feature.reshape(1,-1)\n",
        "\n",
        "prediction=loaded_model.predict(feature)\n",
        "prediction"
      ],
      "metadata": {
        "colab": {
          "base_uri": "https://localhost:8080/"
        },
        "id": "uaiCwWUqARWz",
        "outputId": "ebee455b-e6b8-4e04-b65e-021f825accdb"
      },
      "execution_count": null,
      "outputs": [
        {
          "output_type": "execute_result",
          "data": {
            "text/plain": [
              "array(['calm'], dtype='<U7')"
            ]
          },
          "metadata": {},
          "execution_count": 22
        }
      ]
    },
    {
      "cell_type": "code",
      "source": [
        "feature"
      ],
      "metadata": {
        "colab": {
          "base_uri": "https://localhost:8080/"
        },
        "id": "7Rbru8WvARfk",
        "outputId": "e3baaffe-0654-42c4-84a9-78846db956ec"
      },
      "execution_count": null,
      "outputs": [
        {
          "output_type": "execute_result",
          "data": {
            "text/plain": [
              "array([[-6.93497009e+02,  5.00643921e+01,  5.71450531e-01,\n",
              "         1.43299656e+01,  3.33637071e+00, -2.54071975e+00,\n",
              "        -4.05790949e+00, -1.07119999e+01, -7.29413939e+00,\n",
              "         1.74018872e+00, -4.19064236e+00,  1.95466173e+00,\n",
              "        -5.24789381e+00,  2.78142977e+00, -3.16756773e+00,\n",
              "        -3.40008307e+00, -2.37803197e+00, -5.68717539e-01,\n",
              "        -6.47753334e+00, -1.24320555e+00, -2.80542517e+00,\n",
              "        -5.43635798e+00, -4.46875393e-01, -3.63516593e+00,\n",
              "        -2.98372602e+00, -5.63902557e-01, -1.65101993e+00,\n",
              "        -5.55944741e-01, -3.41018438e+00, -2.24465466e+00,\n",
              "        -3.13058877e+00, -2.70089960e+00, -1.88821292e+00,\n",
              "        -5.54154456e-01, -3.96459913e+00, -2.13485193e+00,\n",
              "        -3.94577074e+00, -1.62457860e+00, -2.03990698e+00,\n",
              "        -3.62910867e+00,  6.33751631e-01,  6.48747087e-01,\n",
              "         6.21731520e-01,  6.34555459e-01,  6.60326064e-01,\n",
              "         6.60485923e-01,  7.00930357e-01,  7.31556237e-01,\n",
              "         7.46886790e-01,  7.23434567e-01,  7.16107428e-01,\n",
              "         6.30602121e-01,  6.52830693e-07,  2.22643266e-05,\n",
              "         8.42613052e-04,  1.37719270e-02,  2.83742324e-02,\n",
              "         3.12111378e-02,  8.02663807e-03,  3.56961833e-03,\n",
              "         2.32551787e-02,  2.45211683e-02,  1.87926665e-02,\n",
              "         2.44478174e-02,  1.16031338e-02,  8.60342197e-03,\n",
              "         6.71913056e-03,  9.94843338e-03,  1.89656094e-02,\n",
              "         5.04483357e-02,  4.14051339e-02,  9.96424630e-03,\n",
              "         9.64601431e-03,  1.54170115e-02,  4.05186079e-02,\n",
              "         2.10739672e-02,  2.12946697e-03,  2.76945531e-03,\n",
              "         5.57055743e-03,  1.91831719e-02,  1.36224311e-02,\n",
              "         1.21960300e-03,  6.94197835e-04,  8.96891870e-04,\n",
              "         8.47186951e-04,  3.62369756e-04,  2.21950642e-04,\n",
              "         1.40306875e-04,  2.73740763e-04,  3.75907082e-04,\n",
              "         8.28741526e-04,  8.59786058e-04,  6.12733071e-04,\n",
              "         3.95248993e-04,  2.20409798e-04,  3.04378307e-04,\n",
              "         1.89061835e-03,  1.24956470e-03,  1.03854900e-03,\n",
              "         2.60822102e-03,  3.86649882e-03,  4.33528004e-03,\n",
              "         9.54611111e-04,  4.93530591e-04,  4.47093364e-04,\n",
              "         8.03626666e-04,  7.09871238e-04,  3.92192771e-04,\n",
              "         6.18621008e-04,  9.43593972e-04,  7.60865514e-04,\n",
              "         7.23498932e-04,  1.00387214e-03,  9.19646351e-04,\n",
              "         8.18870671e-04,  5.08129189e-04,  4.11667366e-04,\n",
              "         4.03237646e-04,  1.48571402e-04,  6.84264640e-04,\n",
              "         1.38615607e-03,  2.92808865e-04,  5.09449237e-05,\n",
              "         7.45297148e-05,  1.39878655e-04,  8.93816250e-05,\n",
              "         1.35135124e-04,  1.09651715e-04,  2.46569631e-04,\n",
              "         7.43343204e-04,  4.77164402e-04,  6.96408853e-04,\n",
              "         4.74705710e-04,  2.55434716e-04,  1.59143689e-04,\n",
              "         8.08707482e-05,  9.79213364e-05,  8.84003894e-05,\n",
              "         9.75710209e-05,  1.17046940e-04,  1.84339995e-04,\n",
              "         1.69435385e-04,  2.55546009e-04,  2.40519148e-04,\n",
              "         4.28831205e-04,  2.98486266e-04,  4.27471416e-04,\n",
              "         1.06324660e-04,  5.85673406e-05,  2.31044742e-05,\n",
              "         8.89405237e-06,  1.98013931e-05,  1.09333178e-05,\n",
              "         3.66455424e-05,  3.68459878e-05,  5.25096366e-05,\n",
              "         3.77127617e-05,  8.86667185e-05,  7.79374823e-05,\n",
              "         4.24979589e-05,  6.51855808e-05,  3.53608302e-05,\n",
              "         2.41367925e-05,  2.45215579e-05,  2.89214531e-05,\n",
              "         3.95157222e-05,  2.72971338e-05,  1.96686051e-05,\n",
              "         1.51977429e-05,  1.06007192e-05,  7.99631744e-06,\n",
              "         6.07571883e-06,  4.48540641e-06,  4.12061945e-06,\n",
              "         3.71885676e-06,  3.93320988e-06,  3.48488379e-06,\n",
              "         4.07551670e-06,  1.81608038e-06,  7.83327664e-07]])"
            ]
          },
          "metadata": {},
          "execution_count": 23
        }
      ]
    }
  ]
}